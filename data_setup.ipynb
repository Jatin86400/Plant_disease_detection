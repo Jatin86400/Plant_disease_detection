{
 "cells": [
  {
   "cell_type": "code",
   "execution_count": 4,
   "metadata": {},
   "outputs": [
    {
     "name": "stdout",
     "output_type": "stream",
     "text": [
      "Tomato___Spider_mites Two-spotted_spider_mite\n",
      "Peach___Bacterial_spot\n",
      "Cherry_(including_sour)___healthy\n",
      "Pepper,_bell___healthy\n",
      "Tomato___Tomato_Yellow_Leaf_Curl_Virus\n",
      "Tomato___Leaf_Mold\n",
      "Peach___healthy\n",
      "Grape___Leaf_blight_(Isariopsis_Leaf_Spot)\n",
      "Potato___Early_blight\n",
      "Grape___healthy\n",
      "Tomato___healthy\n",
      "Blueberry___healthy\n",
      "Apple___Black_rot\n",
      "Strawberry___Leaf_scorch\n",
      "Corn_(maize)___Common_rust_\n",
      "Tomato___Bacterial_spot\n",
      "Grape___Esca_(Black_Measles)\n",
      "Pepper,_bell___Bacterial_spot\n",
      "Cherry_(including_sour)___Powdery_mildew\n",
      "Corn_(maize)___healthy\n",
      "Tomato___Early_blight\n",
      "Tomato___Septoria_leaf_spot\n",
      "Soybean___healthy\n",
      "Raspberry___healthy\n",
      "Potato___healthy\n",
      ".ipynb_checkpoints\n",
      "Potato___Late_blight\n",
      "Grape___Black_rot\n",
      "Apple___healthy\n",
      "Corn_(maize)___Cercospora_leaf_spot Gray_leaf_spot\n",
      "Strawberry___healthy\n",
      "Orange___Haunglongbing_(Citrus_greening)\n",
      "Apple___Cedar_apple_rust\n",
      "Corn_(maize)___Northern_Leaf_Blight\n",
      "Tomato___Tomato_mosaic_virus\n",
      "Tomato___Target_Spot\n",
      "Tomato___Late_blight\n",
      "Apple___Apple_scab\n",
      "Squash___Powdery_mildew\n",
      "5477\n",
      "5409\n",
      "43420\n",
      "{'Tomato___Spider_mites Two-spotted_spider_mite': 0, 'Peach___Bacterial_spot': 1, 'Cherry_(including_sour)___healthy': 2, 'Pepper,_bell___healthy': 3, 'Tomato___Tomato_Yellow_Leaf_Curl_Virus': 4, 'Tomato___Leaf_Mold': 5, 'Peach___healthy': 6, 'Grape___Leaf_blight_(Isariopsis_Leaf_Spot)': 7, 'Potato___Early_blight': 8, 'Grape___healthy': 9, 'Tomato___healthy': 10, 'Blueberry___healthy': 11, 'Apple___Black_rot': 12, 'Strawberry___Leaf_scorch': 13, 'Corn_(maize)___Common_rust_': 14, 'Tomato___Bacterial_spot': 15, 'Grape___Esca_(Black_Measles)': 16, 'Pepper,_bell___Bacterial_spot': 17, 'Cherry_(including_sour)___Powdery_mildew': 18, 'Corn_(maize)___healthy': 19, 'Tomato___Early_blight': 20, 'Tomato___Septoria_leaf_spot': 21, 'Soybean___healthy': 22, 'Raspberry___healthy': 23, 'Potato___healthy': 24, '.ipynb_checkpoints': 25, 'Potato___Late_blight': 26, 'Grape___Black_rot': 27, 'Apple___healthy': 28, 'Corn_(maize)___Cercospora_leaf_spot Gray_leaf_spot': 29, 'Strawberry___healthy': 30, 'Orange___Haunglongbing_(Citrus_greening)': 31, 'Apple___Cedar_apple_rust': 32, 'Corn_(maize)___Northern_Leaf_Blight': 33, 'Tomato___Tomato_mosaic_virus': 34, 'Tomato___Target_Spot': 35, 'Tomato___Late_blight': 36, 'Apple___Apple_scab': 37, 'Squash___Powdery_mildew': 38}\n"
     ]
    }
   ],
   "source": [
    "import os\n",
    "import random\n",
    "\n",
    "count1=0\n",
    "count2=0\n",
    "count3=0\n",
    "count=0\n",
    "label_dict = {}\n",
    "data_dir = \"/home/jatin-pg/MTP/PlantVillage-Dataset/raw\"\n",
    "train_file = open(\"/home/jatin-pg/MTP/PlantVillage-Dataset/trainlist.txt\",\"w+\")\n",
    "test_file = open(\"/home/jatin-pg/MTP/PlantVillage-Dataset/testlist.txt\",\"w+\")\n",
    "val_file = open(\"/home/jatin-pg/MTP/PlantVillage-Dataset/vallist.txt\",\"w+\")\n",
    "for folder in os.listdir(data_dir):\n",
    "    if folder==\"segmented\":\n",
    "        for sub_folder in os.listdir(os.path.join(data_dir,folder)):\n",
    "            print(sub_folder)\n",
    "            if sub_folder not in label_dict.keys():\n",
    "                label_dict[sub_folder] = count\n",
    "                count+=1\n",
    "            for image in os.listdir(os.path.join(data_dir,folder,sub_folder)):\n",
    "                temp = random.randint(0,9)\n",
    "                if temp==0:\n",
    "                    test_file.write(sub_folder+\"/\"+image+\"\\n\")\n",
    "                    count1+=1\n",
    "                elif temp==1:\n",
    "                    val_file.write(sub_folder+\"/\"+image+\"\\n\")\n",
    "                    count2+=1\n",
    "                else:\n",
    "                    train_file.write(sub_folder+\"/\"+image+\"\\n\") \n",
    "                    count3+=1\n",
    "print(count1)\n",
    "print(count2)\n",
    "print(count3)\n",
    "train_file.close()\n",
    "test_file.close()\n",
    "val_file.close()\n",
    "print(label_dict)"
   ]
  },
  {
   "cell_type": "code",
   "execution_count": null,
   "metadata": {},
   "outputs": [],
   "source": [
    "\n"
   ]
  }
 ],
 "metadata": {
  "kernelspec": {
   "display_name": "Python 3",
   "language": "python",
   "name": "python3"
  },
  "language_info": {
   "codemirror_mode": {
    "name": "ipython",
    "version": 3
   },
   "file_extension": ".py",
   "mimetype": "text/x-python",
   "name": "python",
   "nbconvert_exporter": "python",
   "pygments_lexer": "ipython3",
   "version": "3.6.9"
  }
 },
 "nbformat": 4,
 "nbformat_minor": 2
}
